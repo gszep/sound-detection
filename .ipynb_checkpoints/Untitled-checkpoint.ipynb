{
 "cells": [
  {
   "cell_type": "code",
   "execution_count": 17,
   "metadata": {},
   "outputs": [],
   "source": [
    "import scaper\n",
    "import jams\n",
    "\n",
    "from numpy import linspace,digitize\n",
    "from scipy.io import wavfile\n",
    "\n",
    "\n",
    "def normalize(data):\n",
    "    temp = np.float32(data) - np.min(data)\n",
    "    out = (temp / np.max(temp) - 0.5) * 2\n",
    "    return out\n",
    "\n",
    "\n",
    "def make_batch(path):\n",
    "    \"\"\"Returns a (data,label) tuple for input and training\"\"\"\n",
    "\n",
    "    # extract signal\n",
    "    sample_frequency,signal = wavfile.read(path)\n",
    "    n_samples = len(signal)\n",
    "\n",
    "    signal = normalize(signal)\n",
    "    levels = linspace(-1, 1, 256)\n",
    "    \n",
    "    # quantise inputs to 256 levels\n",
    "    inputs = digitize(signal, levels)-1\n",
    "    inputs = levels[inputs]\n",
    "\n",
    "    # encode targets\n",
    "    targets = inputs\n",
    "    return inputs.reshape(1,n_samples,1), targets.reshape(1,n_samples,1)\n"
   ]
  },
  {
   "cell_type": "code",
   "execution_count": 19,
   "metadata": {},
   "outputs": [
    {
     "data": {
      "text/plain": [
       "(array([-0.01960784, -0.03529412, -0.04313725, ..., -0.01176471,\n",
       "        -0.00392157, -0.01960784]),\n",
       " array([-0.01960784, -0.03529412, -0.04313725, ..., -0.01176471,\n",
       "        -0.00392157, -0.01960784]))"
      ]
     },
     "execution_count": 19,
     "metadata": {},
     "output_type": "execute_result"
    }
   ],
   "source": [
    "make_batch('/datadrive/urban-sed/audio/train/soundscape_train_bimodal0.wav')"
   ]
  },
  {
   "cell_type": "code",
   "execution_count": null,
   "metadata": {},
   "outputs": [],
   "source": []
  }
 ],
 "metadata": {
  "kernelspec": {
   "display_name": "Python 2",
   "language": "python",
   "name": "python2"
  },
  "language_info": {
   "codemirror_mode": {
    "name": "ipython",
    "version": 2
   },
   "file_extension": ".py",
   "mimetype": "text/x-python",
   "name": "python",
   "nbconvert_exporter": "python",
   "pygments_lexer": "ipython2",
   "version": "2.7.12"
  }
 },
 "nbformat": 4,
 "nbformat_minor": 2
}
