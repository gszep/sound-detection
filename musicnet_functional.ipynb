{
 "cells": [
  {
   "cell_type": "code",
   "execution_count": 1,
   "metadata": {},
   "outputs": [],
   "source": [
    "import sys,os,signal\n",
    "\n",
    "import numpy as np\n",
    "import musicnet\n",
    "\n",
    "import torch\n",
    "from torch.autograd import Variable\n",
    "from torch.nn.functional import conv1d, mse_loss\n",
    "\n",
    "from time import time\n",
    "\n",
    "import matplotlib.pyplot as plt\n",
    "from IPython.display import Audio\n",
    "\n",
    "from sklearn.metrics import average_precision_score\n",
    "\n",
    "root = '/datadrive/musicnet'\n",
    "\n",
    "%matplotlib inline"
   ]
  },
  {
   "cell_type": "code",
   "execution_count": 2,
   "metadata": {},
   "outputs": [],
   "source": [
    "# os.environ['CUDA_DEVICE_ORDER']='PCI_BUS_ID'   # see issue #152\n",
    "# os.environ['CUDA_VISIBLE_DEVICES']='3'\n",
    "\n",
    "def worker_init(args):\n",
    "    signal.signal(signal.SIGINT, signal.SIG_IGN) # ignore signals so parent can handle them\n",
    "    np.random.seed(os.getpid() ^ int(time())) # approximately random seed for workers\n",
    "\n",
    "batch_size = 100\n",
    "kwargs = {'num_workers': 4, 'pin_memory': True, 'worker_init_fn': worker_init}\n",
    "\n",
    "m = 128\n",
    "k = 500\n",
    "d = 4096\n",
    "window = 16384\n",
    "stride = 512\n",
    "regions = 1 + (window - d)/stride"
   ]
  },
  {
   "cell_type": "code",
   "execution_count": 3,
   "metadata": {},
   "outputs": [
    {
     "name": "stdout",
     "output_type": "stream",
     "text": [
      "/datadrive/musicnet/train/labels/tree.pckl\n",
      "/datadrive/musicnet/train/labels/tree.pckl\n"
     ]
    }
   ],
   "source": [
    "train_set = musicnet.MusicNet(root=root, train=True, window=window)#, pitch_shift=5, jitter=.1)\n",
    "test_set = musicnet.MusicNet(root=root, train=False, window=window, epoch_size=50000)"
   ]
  },
  {
   "cell_type": "code",
   "execution_count": 4,
   "metadata": {},
   "outputs": [],
   "source": [
    "train_loader = torch.utils.data.DataLoader(dataset=train_set,batch_size=batch_size,**kwargs)\n",
    "test_loader = torch.utils.data.DataLoader(dataset=test_set,batch_size=batch_size,**kwargs)"
   ]
  },
  {
   "cell_type": "code",
   "execution_count": 5,
   "metadata": {},
   "outputs": [],
   "source": [
    "def create_filters(d,k,low=50,high=6000):\n",
    "    x = np.linspace(0, 2*np.pi, d, endpoint=False)\n",
    "    wsin = np.empty((k,1,d), dtype=np.float32)\n",
    "    wcos = np.empty((k,1,d), dtype=np.float32)\n",
    "    start_freq = low\n",
    "    end_freq = high\n",
    "    num_cycles = start_freq*d/44000.\n",
    "    scaling_ind = np.log(end_freq/start_freq)/k\n",
    "    window_mask = 1.0-1.0*np.cos(x)\n",
    "    for ind in range(k):\n",
    "        wsin[ind,0,:] = window_mask*np.sin(np.exp(ind*scaling_ind)*num_cycles*x)\n",
    "        wcos[ind,0,:] = window_mask*np.cos(np.exp(ind*scaling_ind)*num_cycles*x)\n",
    "    \n",
    "    return wsin,wcos"
   ]
  },
  {
   "cell_type": "code",
   "execution_count": 6,
   "metadata": {},
   "outputs": [],
   "source": [
    "wsin,wcos = create_filters(d,k)\n",
    "\n",
    "with torch.cuda.device(0):\n",
    "    wsin_var = Variable(torch.from_numpy(wsin).cuda(), requires_grad=False)\n",
    "    wcos_var = Variable(torch.from_numpy(wcos).cuda(), requires_grad=False)\n",
    "    \n",
    "def init_weights(scale=0.):\n",
    "    wscale = 0.\n",
    "    with torch.cuda.device(0):\n",
    "        beta = Variable(wscale*torch.rand(regions*k,m).cuda(), requires_grad=True)\n",
    "        betaavg = Variable(beta.data.clone(), requires_grad=False)\n",
    "    return (beta,), (betaavg,)\n",
    "\n",
    "def forward(x, beta):\n",
    "    zx = conv1d(x[:,None,:], wsin_var, stride=stride).pow(2) \\\n",
    "       + conv1d(x[:,None,:], wcos_var, stride=stride).pow(2)\n",
    "    return torch.mm(torch.log(zx + musicnet.epsilon).view(x.data.size()[0],regions*k), beta)\n",
    "\n",
    "def L(y_hat, y, beta):\n",
    "    # adjust for per-frame loss\n",
    "    return mse_loss(y_hat, y)*128/2.# + .01*torch.mean(beta.pow(2.))"
   ]
  },
  {
   "cell_type": "markdown",
   "metadata": {},
   "source": [
    "# Train the model"
   ]
  },
  {
   "cell_type": "code",
   "execution_count": 7,
   "metadata": {},
   "outputs": [],
   "source": [
    "weights, averages = init_weights()\n",
    "loss_history = []\n",
    "avgp_history = []"
   ]
  },
  {
   "cell_type": "code",
   "execution_count": 8,
   "metadata": {},
   "outputs": [
    {
     "name": "stdout",
     "output_type": "stream",
     "text": [
      "square loss\tavg prec\ttime\t\tutime\n"
     ]
    },
    {
     "name": "stderr",
     "output_type": "stream",
     "text": [
      "/usr/local/lib/python2.7/dist-packages/ipykernel_launcher.py:26: UserWarning: invalid index of a 0-dim tensor. This will be an error in PyTorch 0.5. Use tensor.item() to convert a 0-dim tensor to a Python number\n"
     ]
    },
    {
     "name": "stdout",
     "output_type": "stream",
     "text": [
      "0.985374\t0.619073\t34.791952\t12.624761\n",
      "0.876273\t0.637167\t34.525754\t12.651828\n",
      "0.803813\t0.641062\t37.379537\t14.312392\n",
      "0.757805\t0.649305\t37.300480\t14.032300\n",
      "0.727496\t0.653141\t37.962262\t14.294648\n",
      "0.707994\t0.652076\t37.475165\t13.913607\n",
      "0.697988\t0.655093\t37.582017\t13.910106\n",
      "0.688419\t0.660331\t37.701437\t14.071010\n",
      "0.681729\t0.656336\t37.597548\t14.030105\n",
      "0.681581\t0.659840\t37.586968\t13.874512\n",
      "0.682441\t0.659694\t37.586281\t14.204870\n",
      "0.682635\t0.662445\t37.331734\t13.802657\n",
      "0.681460\t0.660621\t37.771789\t14.066047\n",
      "0.681187\t0.661001\t37.816388\t14.162616\n",
      "0.681342\t0.664040\t38.123233\t14.246668\n",
      "0.684404\t0.662190\t37.577227\t13.820455\n",
      "0.685497\t0.662985\t37.326856\t13.964316\n",
      "0.687274\t0.662500\t37.458623\t14.073850\n",
      "0.686618\t0.662074\t37.324670\t14.123955\n",
      "0.685351\t0.664921\t37.571633\t14.195733\n",
      "0.687706\t0.664009\t37.951201\t14.212835\n",
      "0.687072\t0.662528\t37.565434\t14.122711\n",
      "0.685733\t0.666066\t38.069980\t14.298835\n",
      "0.689853\t0.665870\t38.519434\t14.351859\n",
      "0.686642\t0.665521\t38.978515\t15.019770\n",
      "0.689037\t0.664857\t39.669950\t14.697562\n",
      "0.692107\t0.662517\t39.045808\t14.882706\n",
      "0.689122\t0.665868\t39.961474\t15.452001\n",
      "0.690607\t0.662336\t38.082130\t13.926900\n",
      "0.688718\t0.664750\t37.905694\t14.271196\n",
      "0.689305\t0.661710\t37.969409\t14.285371\n",
      "0.686530\t0.665530\t38.360290\t14.279618\n",
      "0.687689\t0.664343\t38.369542\t14.319593\n",
      "0.687575\t0.666848\t38.852218\t14.671870\n",
      "0.687382\t0.665785\t38.322618\t14.212643\n",
      "0.686973\t0.666734\t38.095299\t14.130457\n",
      "0.687429\t0.664945\t37.752813\t14.224501\n",
      "0.686380\t0.666232\t38.806843\t14.647155\n",
      "0.690619\t0.666321\t37.718702\t14.066058\n",
      "0.686190\t0.665391\t38.008304\t14.118137\n",
      "0.685746\t0.665663\t37.739761\t14.189991\n",
      "0.688191\t0.666980\t38.303556\t14.473979\n",
      "0.682877\t0.665034\t37.856664\t14.052653\n",
      "0.688099\t0.666878\t38.600275\t14.463018\n",
      "0.683861\t0.668464\t37.782175\t14.145349\n",
      "0.688523\t0.668400\t38.362595\t14.226282\n",
      "0.687210\t0.664718\t38.037105\t14.304774\n",
      "0.685066\t0.665322\t38.243150\t14.461098\n",
      "0.690890\t0.666395\t38.110030\t14.440668\n",
      "0.685377\t0.670632\t38.112945\t14.380469\n",
      "Finished\n"
     ]
    }
   ],
   "source": [
    "avg = .9998\n",
    "optimizer = torch.optim.SGD(weights, lr=0.000001, momentum=.95)\n",
    "\n",
    "try:\n",
    "    with train_set, test_set:\n",
    "        print 'square loss\\tavg prec\\ttime\\t\\tutime'\n",
    "        for epoch in xrange(50):\n",
    "            t = time()\n",
    "            for i, (x, y) in enumerate(train_loader):\n",
    "                optimizer.zero_grad()\n",
    "                x, y = Variable(x.cuda(), requires_grad=False), Variable(y.cuda(), requires_grad=False)\n",
    "                loss = L(forward(x,*weights),y,*weights)\n",
    "                loss.backward()\n",
    "                optimizer.step()\n",
    "\n",
    "                for w,wavg in zip(weights, averages):\n",
    "                    wavg.copy_(avg*wavg + (1.-avg)*w)\n",
    "\n",
    "            t1 = time()\n",
    "            avgp, loss = 0., 0.\n",
    "            yground = torch.FloatTensor(batch_size*len(test_loader), m)\n",
    "            yhat = torch.FloatTensor(batch_size*len(test_loader), m)\n",
    "            for i, (x, y) in enumerate(test_loader):\n",
    "                x, y = Variable(x.cuda(), requires_grad=False), Variable(y.cuda(), requires_grad=False)\n",
    "                yhatvar = forward(x,*averages)\n",
    "                loss += L(yhatvar,y,*averages).data[0]\n",
    "                yground[i*batch_size:(i+1)*batch_size,:] = y.data\n",
    "                yhat[i*batch_size:(i+1)*batch_size,:] = yhatvar.data\n",
    "            avgp = average_precision_score(yground.numpy().flatten(),yhat.numpy().flatten())\n",
    "            loss_history.append(loss/len(test_loader))\n",
    "            avgp_history.append(avgp)\n",
    "            print '{:2f}\\t{:2f}\\t{:2f}\\t{:2f}'.format(loss_history[-1],avgp_history[-1],time()-t, time()-t1)\n",
    "\n",
    "except KeyboardInterrupt:\n",
    "    print 'Graceful Exit'\n",
    "else:\n",
    "    print 'Finished'"
   ]
  },
  {
   "cell_type": "code",
   "execution_count": 9,
   "metadata": {},
   "outputs": [
    {
     "data": {
      "text/plain": [
       "[<matplotlib.lines.Line2D at 0x7f2155b40a50>]"
      ]
     },
     "execution_count": 9,
     "metadata": {},
     "output_type": "execute_result"
    },
    {
     "data": {
      "image/png": "[encoded data removed]",
      "text/plain": [
       "<Figure size 1080x504 with 2 Axes>"
      ]
     },
     "metadata": {},
     "output_type": "display_data"
    }
   ],
   "source": [
    "burnin = 1\n",
    "\n",
    "fig = plt.figure(figsize=(15, 7))\n",
    "fig.add_axes()\n",
    "\n",
    "ax1 = fig.add_subplot(131)\n",
    "ax2 = fig.add_subplot(132)\n",
    "\n",
    "for ax in [ax1, ax2]:\n",
    "    ax.spines[\"top\"].set_visible(False)\n",
    "    ax.spines[\"right\"].set_visible(False)\n",
    "    ax.spines[\"left\"].set_visible(False)\n",
    "    ax.spines[\"bottom\"].set_visible(False)\n",
    "    ax.grid(color='b', linestyle='--', linewidth=0.5, alpha=0.3)\n",
    "    ax.tick_params(direction='out', color='b', width='2')\n",
    "    \n",
    "ax1.set_title('square loss')\n",
    "ax1.plot(np.arange(len(loss_history[burnin:])), loss_history[burnin:])\n",
    "ax2.set_title('average precision')\n",
    "ax2.plot(np.arange(len(avgp_history[burnin:])), avgp_history[burnin:])"
   ]
  },
  {
   "cell_type": "code",
   "execution_count": null,
   "metadata": {},
   "outputs": [],
   "source": []
  }
 ],
 "metadata": {
  "kernelspec": {
   "display_name": "Python 2",
   "language": "python",
   "name": "python2"
  },
  "language_info": {
   "codemirror_mode": {
    "name": "ipython",
    "version": 2
   },
   "file_extension": ".py",
   "mimetype": "text/x-python",
   "name": "python",
   "nbconvert_exporter": "python",
   "pygments_lexer": "ipython2",
   "version": "2.7.12"
  }
 },
 "nbformat": 4,
 "nbformat_minor": 2
}
